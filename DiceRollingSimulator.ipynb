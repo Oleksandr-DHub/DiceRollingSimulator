{
 "cells": [
  {
   "cell_type": "code",
   "execution_count": 1,
   "metadata": {},
   "outputs": [
    {
     "name": "stdout",
     "output_type": "stream",
     "text": [
      "You rolled the dice, and the result is: 5\n",
      "You rolled the dice, and the result is: 1\n",
      "You rolled the dice, and the result is: 3\n",
      "You rolled the dice, and the result is: 3\n",
      "Please enter only 'yes' or 'no'.\n",
      "You rolled the dice, and the result is: 6\n",
      "You rolled the dice, and the result is: 2\n",
      "Thank you for playing!\n"
     ]
    }
   ],
   "source": [
    "import random  # Import the random module for generating random numbers\n",
    "\n",
    "\n",
    "while True:\n",
    "    user_input = input(\"Would you like to roll the dice? (yes/no): \")  \n",
    "    \n",
    "    if user_input == \"yes\":  # Check if the user wants to roll the dice\n",
    "        dice_result = random.randint(1,6)  # Generate a new random number between 1 and 6\n",
    "        print(f\"You rolled the dice, and the result is: {dice_result}\")  # Display the result\n",
    "    elif user_input == \"no\":  # If the user doesn't want to roll\n",
    "        print(\"Thank you for playing!\")  # Thank the user for playing\n",
    "        break  # Exit the loop and end the program\n",
    "    else:  \n",
    "        print(\"Please enter only 'yes' or 'no'.\")  # Inform the user of valid options\n"
   ]
  }
 ],
 "metadata": {
  "kernelspec": {
   "display_name": "myenv",
   "language": "python",
   "name": "python3"
  },
  "language_info": {
   "codemirror_mode": {
    "name": "ipython",
    "version": 3
   },
   "file_extension": ".py",
   "mimetype": "text/x-python",
   "name": "python",
   "nbconvert_exporter": "python",
   "pygments_lexer": "ipython3",
   "version": "3.12.3"
  }
 },
 "nbformat": 4,
 "nbformat_minor": 2
}
